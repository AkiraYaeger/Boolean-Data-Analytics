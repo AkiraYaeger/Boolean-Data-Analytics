{
 "cells": [
  {
   "cell_type": "markdown",
   "id": "2b04dd95-2ffb-4fa1-b4b2-091647abb161",
   "metadata": {},
   "source": [
    "# 3.15.x Final Assignment"
   ]
  },
  {
   "cell_type": "markdown",
   "id": "5a968c9c-628b-42c6-b692-d88b2a1866f4",
   "metadata": {},
   "source": [
    "### Assignment Instructions"
   ]
  },
  {
   "cell_type": "markdown",
   "id": "113c7d54-1e69-4ec5-ba25-8e5effdb269b",
   "metadata": {
    "tags": []
   },
   "source": [
    "#### Part 2   |   Advanced Difficulty Level\n",
    "\n",
    "In this second part, you will be working with a datasets containing information on indian startups' funding, including the startup's details, the funding it received, and the investors' information. \n",
    "\n",
    "In the usual `data` folder, you will find the following three datasets, including data from 2019, 2020 and 2021: \n",
    "\n",
    "- `startup_funding2019.csv`\n",
    "- `startup_funding2020.csv`\n",
    "- `startup_funding2021.csv`\n",
    "\n",
    "At [this link](https://www.kaggle.com/datasets/omkargowda/indian-startups-funding-data?select=startup_funding2019.csv) you can find the source of the original data (Kaggle) as well as more information on its composition *(note: the files in the data folder are slightly different from the originals)*.\n",
    "\n",
    "1. Using a **for loop**, load all three .csv files in a temporary DataFrame called `df_tmp` and, at each cycle, add a new column named `Year` that includes the year of that csv file to the temporary table and append it to a final DataFrame named `fnd`. Your final `fnd` DataFrame should include the contents from all three csv files stacked one on top of the other. \n",
    "\n",
    "    What is the **shape** of the `fnd` DataFrame? "
   ]
  },
  {
   "cell_type": "code",
   "execution_count": 1,
   "id": "95b7ed33-a7c7-4309-bfba-d07958820fb9",
   "metadata": {
    "scrolled": true,
    "tags": []
   },
   "outputs": [
    {
     "data": {
      "text/plain": [
       "(2343, 10)"
      ]
     },
     "execution_count": 1,
     "metadata": {},
     "output_type": "execute_result"
    }
   ],
   "source": [
    "import numpy as np\n",
    "import pandas as pd\n",
    "import os\n",
    "d={}\n",
    "fnd=pd.DataFrame()\n",
    "for year in os.listdir(\"/Users/alessandro/Desktop/Data Analytics/Git/3.15.x-Final-Assignment/data\"):\n",
    "    if year.endswith(\".csv\") and year!='Software Professionals Salary.csv':\n",
    "        d[year]=pd.read_csv('data/'+year)\n",
    "        d[year]=pd.DataFrame(d[year])\n",
    "        d[year]['Year']=year[15:19]\n",
    "        fnd=pd.concat([fnd,d[year]], ignore_index=True)\n",
    "fnd.shape"
   ]
  },
  {
   "cell_type": "markdown",
   "id": "1740ef37-e478-4d67-ac20-375b652cbcf0",
   "metadata": {},
   "source": [
    "2. If you check the columns' data types, you'll notice that the columns `Founded`, `Amount($)` and `Year` are being interpreted as strings instead of numbers. Format those three columns to numeric data types. \n",
    "\n",
    "    What is the **total** `Amount($)` of funding given in the three years available?"
   ]
  },
  {
   "cell_type": "code",
   "execution_count": 2,
   "id": "1bdde8cc-88f6-498e-8f3f-75f8a863a10e",
   "metadata": {},
   "outputs": [
    {
     "data": {
      "text/plain": [
       "271544633855.83002"
      ]
     },
     "execution_count": 2,
     "metadata": {},
     "output_type": "execute_result"
    }
   ],
   "source": [
    "fnd['Amount($)']=fnd['Amount($)'].replace('Undisclosed', np.nan, regex=True)\n",
    "fnd['Amount($)']=fnd['Amount($)'].replace('[\\$,]', '', regex=True).astype(float)\n",
    "fnd['Founded']=fnd['Founded'].replace('-', '0')\n",
    "fnd['Founded']=fnd['Founded'].astype('float')\n",
    "fnd['Year']=fnd['Year'].astype('float')\n",
    "fnd['Amount($)'].sum().astype('float')"
   ]
  },
  {
   "cell_type": "markdown",
   "id": "65cd9537-3d28-4361-a8db-8be41843e801",
   "metadata": {},
   "source": [
    "3. The following code shows us that \"Inflection Point Ventures\" was the `Investor` that funded the highest number of `Company/Brand`s overall (36 companies funded from 2019 to 2021). \n",
    "\n",
    "    How did \"Inflection Point Ventures\" **rank** *(in terms of most `Company/Brand`s funded) **in 2020**? (Note: in the answer write the rank number, where 1 = most funded company)*"
   ]
  },
  {
   "cell_type": "code",
   "execution_count": 3,
   "id": "28c4329f-45da-4220-b871-4535ee010fde",
   "metadata": {},
   "outputs": [
    {
     "data": {
      "text/html": [
       "<div>\n",
       "<style scoped>\n",
       "    .dataframe tbody tr th:only-of-type {\n",
       "        vertical-align: middle;\n",
       "    }\n",
       "\n",
       "    .dataframe tbody tr th {\n",
       "        vertical-align: top;\n",
       "    }\n",
       "\n",
       "    .dataframe thead th {\n",
       "        text-align: right;\n",
       "    }\n",
       "</style>\n",
       "<table border=\"1\" class=\"dataframe\">\n",
       "  <thead>\n",
       "    <tr style=\"text-align: right;\">\n",
       "      <th></th>\n",
       "      <th>Investor</th>\n",
       "      <th>size</th>\n",
       "    </tr>\n",
       "  </thead>\n",
       "  <tbody>\n",
       "    <tr>\n",
       "      <th>696</th>\n",
       "      <td>Inflection Point Ventures</td>\n",
       "      <td>36</td>\n",
       "    </tr>\n",
       "  </tbody>\n",
       "</table>\n",
       "</div>"
      ],
      "text/plain": [
       "                      Investor  size\n",
       "696  Inflection Point Ventures    36"
      ]
     },
     "execution_count": 3,
     "metadata": {},
     "output_type": "execute_result"
    }
   ],
   "source": [
    "# run this cell (don not delete it)\n",
    "fnd.groupby('Investor', as_index=False).size().sort_values('size', ascending=False).head(1)"
   ]
  },
  {
   "cell_type": "code",
   "execution_count": 4,
   "id": "6c77666b-4ef9-4df7-a83f-a4231bc9726f",
   "metadata": {},
   "outputs": [
    {
     "name": "stdout",
     "output_type": "stream",
     "text": [
      "3    4.0\n",
      "Name: rank, dtype: float64\n"
     ]
    }
   ],
   "source": [
    "new=fnd[fnd['Year']==2020].groupby('Investor',as_index=False).size().sort_values('size',ascending=False).reset_index(drop=True)\n",
    "new['rank']=new['size'].rank(ascending=False)\n",
    "print(new[new['Investor']=='Inflection Point Ventures']['rank'])"
   ]
  },
  {
   "cell_type": "markdown",
   "id": "9e1ebfb8-ee7b-428d-8075-ba8ea6c9f63a",
   "metadata": {},
   "source": [
    "4. Load the `Software Professionals Salary.csv` file in a DataFrame named `sps` (just like you did in Part 1), then perform the following tasks **and answer the question at the end**: \n",
    "    1. starting from the `sps` DataFrame, create a new DF called `sps_loc` where you group by `Location` and show, for each city in the dataset, the average `Rating` and `Salary`;\n",
    "    2. starting from the `fnd` DataFrame, create a new DF called `fnd_loc` where you group by `HeadQuarter` and show, for each city in the dataset **for the year 2021**, the total number of `Company/Brand`s funded and the total `Amount($)` invested;\n",
    "    3. merge the two DataFrames you just created so to **keep just the cities that are in both datasets** and save the results in a third DataFrame called `sps_fnd_loc` *(note: make sure to use the correct type of join)*;\n",
    "    4. using the `sps_fnd_loc` DataFrame: \n",
    "        1. delete the `HeadQuarter` column\n",
    "        2. create a new column `Amount($MM)` that is equal to `Amount($)` divided by 1,000,000\n",
    "        3. delete the `Amount($)` column\n",
    "        4. rename all the columns to the following names: `['City', 'Avg. Rating', 'Avg. Salary', 'Nr. Companies Funded', 'Sum Funding ($MM)']`\n",
    "    \n",
    "    **Question**: Look at the `City` that received the **highest** `Avg. Rating` score by employees: what is the `Nr. Companies Funded` in that city? "
   ]
  },
  {
   "cell_type": "code",
   "execution_count": 5,
   "id": "594dbaa6-906b-4041-9943-148927b5750a",
   "metadata": {},
   "outputs": [
    {
     "data": {
      "text/plain": [
       "4    5\n",
       "Name: Nr. Companies Funded, dtype: int64"
      ]
     },
     "execution_count": 5,
     "metadata": {},
     "output_type": "execute_result"
    }
   ],
   "source": [
    "sps = pd.DataFrame(pd.read_csv(\"data/Software Professionals Salary.csv\"))\n",
    "sps_loc=sps.groupby('Location',as_index=False)[['Rating','Salary']].agg('mean')\n",
    "\n",
    "fnd[\"HeadQuarter\"]=fnd[\"HeadQuarter\"].str.strip()\n",
    "fnd[\"HeadQuarter\"]=fnd[\"HeadQuarter\"].astype('str')\n",
    "\n",
    "fnd_loc=fnd[fnd['Year']==2021].groupby('HeadQuarter',as_index=False)['Amount($)'].agg('sum')\n",
    "\n",
    "fnd_loc2=fnd[fnd['Year']==2021].groupby('HeadQuarter',as_index=False)['Company/Brand'].size()\n",
    "\n",
    "fnd_loc = fnd_loc.merge(fnd_loc2, how='left', left_on='HeadQuarter', right_on='HeadQuarter')\n",
    "\n",
    "sps_fnd_loc=sps_loc.merge(fnd_loc,how='inner',left_on='Location',right_on='HeadQuarter')\n",
    "sps_fnd_loc=sps_fnd_loc.drop('HeadQuarter',axis=1)\n",
    "sps_fnd_loc['Amount($MM)']=sps_fnd_loc['Amount($)']/1000000\n",
    "sps_fnd_loc=sps_fnd_loc.drop('Amount($)',axis=1)\n",
    "sps_fnd_loc.rename(columns = {'Location':'City', 'Rating':'Avg. Rating','Salary':'Avg. Salary','size':'Nr. Companies Funded','Amount($MM)':'Sum Funding ($MM)'}, inplace = True)\n",
    "\n",
    "sps_fnd_loc.sort_values('Avg. Rating',ascending=False)['Nr. Companies Funded'].head(1)"
   ]
  },
  {
   "cell_type": "markdown",
   "id": "a7dcfa1d-2439-4f63-bd15-abf5e7398a2e",
   "metadata": {},
   "source": [
    "5. Create a scatterplot that shows the relationship between the `Avg. Salary` and the `Sum Funding ($MM)`. Which `City` stands out in terms of total funding received by companies and salary paid to their employees? "
   ]
  },
  {
   "cell_type": "code",
   "execution_count": 6,
   "id": "e046b4cb-b783-455c-9a39-7fddc33b1119",
   "metadata": {},
   "outputs": [
    {
     "data": {
      "text/plain": [
       "5    Mumbai\n",
       "Name: City, dtype: object"
      ]
     },
     "execution_count": 6,
     "metadata": {},
     "output_type": "execute_result"
    },
    {
     "data": {
      "image/png": "[encoded data removed]",
      "text/plain": [
       "<Figure size 432x288 with 1 Axes>"
      ]
     },
     "metadata": {
      "needs_background": "light"
     },
     "output_type": "display_data"
    }
   ],
   "source": [
    "import matplotlib.pyplot as plt\n",
    "import seaborn as sns\n",
    "sns.scatterplot(x='Avg. Salary', y='Sum Funding ($MM)', data=sps_fnd_loc)\n",
    "sps_fnd_loc.sort_values('Avg. Salary',ascending=False)['City'].head(1)"
   ]
  },
  {
   "cell_type": "markdown",
   "id": "40deb346-babe-4dcb-81e2-6fc4d73acb2b",
   "metadata": {},
   "source": [
    "6. [BONUS] --> optional\n",
    "\n",
    "    Using libraries of your choice, scrape [this census page](https://www.census2011.co.in/city.php) and create a DataFrame called `cities` containing the first table from that page. *(Note: make sure to convert the variables `Population` and `Literacy` to numeric, you will need them later)*\n",
    "    1. Which City has the highest levels of `Literacy` in the country?\n",
    "    2. Merge the `cities` table with the `sps_fnd_loc` in a new DataFrame called `sps_fnd_loc_lit`. The resulting DataFrame is missing one row compared to the `sps_fnd_loc` dataset. Which `City` is missing? Figure out why and fix the problem. \n",
    "    3. Looking at the new `sps_fnd_loc_lit` DataFrame, produce a scatterplot that shows `Literacy` on the x-axis, `Avg. Salary` on the y-axis and the `Population` as the size of the circles. Try also to add the `City` labels to each circle in the chart. There seems to be a positive direct relationship between the two variables (higher levels of literacy correspond to higher salaries), but there is one city that escapes this interpretation. Which city is it? Try to describe the chart and give your interpretation. "
   ]
  },
  {
   "cell_type": "code",
   "execution_count": 7,
   "id": "8b76fb1a-19bd-450b-9f77-8b0e05fc3009",
   "metadata": {
    "tags": []
   },
   "outputs": [],
   "source": [
    "import requests\n",
    "from bs4 import BeautifulSoup\n",
    "url = \"https://www.census2011.co.in/city.php\"\n",
    "dfs = pd.read_html(url)\n",
    "df = dfs[0]\n",
    "cities=pd.DataFrame(df)\n",
    "cities['Population']=cities['Population'].astype('int64')\n",
    "cities['Literacy']=cities['Literacy'].astype('float64')\n",
    "\n",
    "cities.sort_values('Literacy',ascending=False)['City'].head(1)\n",
    "sps_fnd_loc_lit=sps_fnd_loc.merge(cities,how='inner',left_on='City',right_on='City')\n",
    "\n",
    "df_all = sps_fnd_loc.merge(sps_fnd_loc_lit.drop_duplicates(), on=['City','City'], \n",
    "                   how='left', indicator=True)\n",
    "\n",
    "df_all[df_all['_merge']=='left_only']['City']\n",
    "\n",
    "sps_fnd_loc.loc[6,'City']='Delhi'\n",
    "\n",
    "sps_fnd_loc_lit=sps_fnd_loc.merge(cities,how='inner',left_on='City',right_on='City')"
   ]
  },
  {
   "cell_type": "code",
   "execution_count": 11,
   "id": "7df384e1-7e96-4dd0-8daf-8170bae6b09c",
   "metadata": {},
   "outputs": [
    {
     "data": {
      "text/html": [
       "<div>\n",
       "<style scoped>\n",
       "    .dataframe tbody tr th:only-of-type {\n",
       "        vertical-align: middle;\n",
       "    }\n",
       "\n",
       "    .dataframe tbody tr th {\n",
       "        vertical-align: top;\n",
       "    }\n",
       "\n",
       "    .dataframe thead th {\n",
       "        text-align: right;\n",
       "    }\n",
       "</style>\n",
       "<table border=\"1\" class=\"dataframe\">\n",
       "  <thead>\n",
       "    <tr style=\"text-align: right;\">\n",
       "      <th></th>\n",
       "      <th>City</th>\n",
       "      <th>Avg. Rating</th>\n",
       "      <th>Avg. Salary</th>\n",
       "      <th>Nr. Companies Funded</th>\n",
       "      <th>Sum Funding ($MM)</th>\n",
       "      <th>#</th>\n",
       "      <th>State</th>\n",
       "      <th>Population</th>\n",
       "      <th>Metropolitan</th>\n",
       "      <th>Sexratio</th>\n",
       "      <th>Literacy</th>\n",
       "    </tr>\n",
       "  </thead>\n",
       "  <tbody>\n",
       "    <tr>\n",
       "      <th>0</th>\n",
       "      <td>Bangalore</td>\n",
       "      <td>3.920232</td>\n",
       "      <td>735344.739593</td>\n",
       "      <td>425</td>\n",
       "      <td>14327.42</td>\n",
       "      <td>3</td>\n",
       "      <td>Karnataka</td>\n",
       "      <td>8443675</td>\n",
       "      <td>8499399</td>\n",
       "      <td>923</td>\n",
       "      <td>88.71</td>\n",
       "    </tr>\n",
       "    <tr>\n",
       "      <th>1</th>\n",
       "      <td>Chennai</td>\n",
       "      <td>3.902726</td>\n",
       "      <td>584559.661513</td>\n",
       "      <td>40</td>\n",
       "      <td>717.14</td>\n",
       "      <td>6</td>\n",
       "      <td>Tamil Nadu</td>\n",
       "      <td>4646732</td>\n",
       "      <td>8696010</td>\n",
       "      <td>989</td>\n",
       "      <td>90.18</td>\n",
       "    </tr>\n",
       "    <tr>\n",
       "      <th>2</th>\n",
       "      <td>Hyderabad</td>\n",
       "      <td>3.914484</td>\n",
       "      <td>679099.157376</td>\n",
       "      <td>34</td>\n",
       "      <td>243.96</td>\n",
       "      <td>4</td>\n",
       "      <td>Andhra Pradesh</td>\n",
       "      <td>6731790</td>\n",
       "      <td>7749334</td>\n",
       "      <td>955</td>\n",
       "      <td>83.26</td>\n",
       "    </tr>\n",
       "    <tr>\n",
       "      <th>3</th>\n",
       "      <td>Jaipur</td>\n",
       "      <td>3.940741</td>\n",
       "      <td>629135.802469</td>\n",
       "      <td>11</td>\n",
       "      <td>343.30</td>\n",
       "      <td>10</td>\n",
       "      <td>Rajasthan</td>\n",
       "      <td>3046163</td>\n",
       "      <td>3046163</td>\n",
       "      <td>900</td>\n",
       "      <td>83.33</td>\n",
       "    </tr>\n",
       "    <tr>\n",
       "      <th>4</th>\n",
       "      <td>Kolkata</td>\n",
       "      <td>4.024719</td>\n",
       "      <td>710925.573034</td>\n",
       "      <td>5</td>\n",
       "      <td>28.00</td>\n",
       "      <td>7</td>\n",
       "      <td>West Bengal</td>\n",
       "      <td>4496694</td>\n",
       "      <td>14112536</td>\n",
       "      <td>908</td>\n",
       "      <td>86.31</td>\n",
       "    </tr>\n",
       "    <tr>\n",
       "      <th>5</th>\n",
       "      <td>Mumbai</td>\n",
       "      <td>3.881709</td>\n",
       "      <td>961180.368491</td>\n",
       "      <td>200</td>\n",
       "      <td>153830.30</td>\n",
       "      <td>1</td>\n",
       "      <td>Maharashtra</td>\n",
       "      <td>12442373</td>\n",
       "      <td>18414288</td>\n",
       "      <td>853</td>\n",
       "      <td>89.73</td>\n",
       "    </tr>\n",
       "    <tr>\n",
       "      <th>6</th>\n",
       "      <td>Delhi</td>\n",
       "      <td>3.943415</td>\n",
       "      <td>658756.735632</td>\n",
       "      <td>143</td>\n",
       "      <td>1673.01</td>\n",
       "      <td>2</td>\n",
       "      <td>Delhi</td>\n",
       "      <td>11034555</td>\n",
       "      <td>16314838</td>\n",
       "      <td>876</td>\n",
       "      <td>87.59</td>\n",
       "    </tr>\n",
       "    <tr>\n",
       "      <th>7</th>\n",
       "      <td>Pune</td>\n",
       "      <td>3.886082</td>\n",
       "      <td>690476.311153</td>\n",
       "      <td>46</td>\n",
       "      <td>509.07</td>\n",
       "      <td>9</td>\n",
       "      <td>Maharashtra</td>\n",
       "      <td>3124458</td>\n",
       "      <td>5049968</td>\n",
       "      <td>948</td>\n",
       "      <td>89.56</td>\n",
       "    </tr>\n",
       "  </tbody>\n",
       "</table>\n",
       "</div>"
      ],
      "text/plain": [
       "        City  Avg. Rating    Avg. Salary  Nr. Companies Funded  \\\n",
       "0  Bangalore     3.920232  735344.739593                   425   \n",
       "1    Chennai     3.902726  584559.661513                    40   \n",
       "2  Hyderabad     3.914484  679099.157376                    34   \n",
       "3     Jaipur     3.940741  629135.802469                    11   \n",
       "4    Kolkata     4.024719  710925.573034                     5   \n",
       "5     Mumbai     3.881709  961180.368491                   200   \n",
       "6      Delhi     3.943415  658756.735632                   143   \n",
       "7       Pune     3.886082  690476.311153                    46   \n",
       "\n",
       "   Sum Funding ($MM)   #           State  Population  Metropolitan  Sexratio  \\\n",
       "0           14327.42   3       Karnataka     8443675       8499399       923   \n",
       "1             717.14   6      Tamil Nadu     4646732       8696010       989   \n",
       "2             243.96   4  Andhra Pradesh     6731790       7749334       955   \n",
       "3             343.30  10       Rajasthan     3046163       3046163       900   \n",
       "4              28.00   7     West Bengal     4496694      14112536       908   \n",
       "5          153830.30   1     Maharashtra    12442373      18414288       853   \n",
       "6            1673.01   2           Delhi    11034555      16314838       876   \n",
       "7             509.07   9     Maharashtra     3124458       5049968       948   \n",
       "\n",
       "   Literacy  \n",
       "0     88.71  \n",
       "1     90.18  \n",
       "2     83.26  \n",
       "3     83.33  \n",
       "4     86.31  \n",
       "5     89.73  \n",
       "6     87.59  \n",
       "7     89.56  "
      ]
     },
     "execution_count": 11,
     "metadata": {},
     "output_type": "execute_result"
    }
   ],
   "source": [
    "sps_fnd_loc_lit.head(10)"
   ]
  },
  {
   "cell_type": "code",
   "execution_count": 27,
   "id": "cdfdef93-99b2-422a-aa42-258ff3fafcde",
   "metadata": {
    "tags": []
   },
   "outputs": [
    {
     "name": "stdout",
     "output_type": "stream",
     "text": [
      "[844.3675, 464.6732, 673.179, 304.6163, 449.6694, 1244.2373, 1103.4555, 312.4458] ['Bangalore', 'Chennai', 'Hyderabad', 'Jaipur', 'Kolkata', 'Mumbai', 'Delhi', 'Pune']\n"
     ]
    }
   ],
   "source": [
    "aaar=[]\n",
    "lab=[]\n",
    "l=len(sps_fnd_loc_lit)\n",
    "for b in range(0,l):\n",
    "    aaar.append(sps_fnd_loc_lit['Population'][b]/10000)\n",
    "    lab.append(sps_fnd_loc_lit['City'][b])\n",
    "    b=b+1    "
   ]
  },
  {
   "cell_type": "code",
   "execution_count": 45,
   "id": "ddbf4b0d-13f4-4a76-8b47-a317a187ee85",
   "metadata": {},
   "outputs": [
    {
     "data": {
      "text/plain": [
       "Text(0, 0.5, 'Avg. Salary')"
      ]
     },
     "execution_count": 45,
     "metadata": {},
     "output_type": "execute_result"
    },
    {
     "data": {
      "image/png": "[encoded data removed]",
      "text/plain": [
       "<Figure size 432x288 with 1 Axes>"
      ]
     },
     "metadata": {
      "needs_background": "light"
     },
     "output_type": "display_data"
    }
   ],
   "source": [
    "sps_fnd_loc_lit['Population']\n",
    "plt.scatter(x='Literacy',y='Avg. Salary',s=aaar,label=lab,data=sps_fnd_loc_lit)\n",
    "for n, txt in enumerate(lab):\n",
    "    plt.annotate(txt, (sps_fnd_loc_lit['Literacy'][n], sps_fnd_loc_lit['Avg. Salary'][n]))\n",
    "plt.title('Avg. Salary in relation to Literacy')\n",
    "plt.xlabel('Literacy')\n",
    "plt.ylabel('Avg. Salary')"
   ]
  },
  {
   "cell_type": "code",
   "execution_count": 43,
   "id": "2e256539-fb18-4756-994e-9b2085637003",
   "metadata": {},
   "outputs": [
    {
     "data": {
      "text/html": [
       "<div>\n",
       "<style scoped>\n",
       "    .dataframe tbody tr th:only-of-type {\n",
       "        vertical-align: middle;\n",
       "    }\n",
       "\n",
       "    .dataframe tbody tr th {\n",
       "        vertical-align: top;\n",
       "    }\n",
       "\n",
       "    .dataframe thead th {\n",
       "        text-align: right;\n",
       "    }\n",
       "</style>\n",
       "<table border=\"1\" class=\"dataframe\">\n",
       "  <thead>\n",
       "    <tr style=\"text-align: right;\">\n",
       "      <th></th>\n",
       "      <th>City</th>\n",
       "      <th>Avg. Rating</th>\n",
       "      <th>Avg. Salary</th>\n",
       "      <th>Nr. Companies Funded</th>\n",
       "      <th>Sum Funding ($MM)</th>\n",
       "      <th>#</th>\n",
       "      <th>State</th>\n",
       "      <th>Population</th>\n",
       "      <th>Metropolitan</th>\n",
       "      <th>Sexratio</th>\n",
       "      <th>Literacy</th>\n",
       "    </tr>\n",
       "  </thead>\n",
       "  <tbody>\n",
       "    <tr>\n",
       "      <th>1</th>\n",
       "      <td>Chennai</td>\n",
       "      <td>3.902726</td>\n",
       "      <td>584559.661513</td>\n",
       "      <td>40</td>\n",
       "      <td>717.14</td>\n",
       "      <td>6</td>\n",
       "      <td>Tamil Nadu</td>\n",
       "      <td>4646732</td>\n",
       "      <td>8696010</td>\n",
       "      <td>989</td>\n",
       "      <td>90.18</td>\n",
       "    </tr>\n",
       "  </tbody>\n",
       "</table>\n",
       "</div>"
      ],
      "text/plain": [
       "      City  Avg. Rating    Avg. Salary  Nr. Companies Funded  \\\n",
       "1  Chennai     3.902726  584559.661513                    40   \n",
       "\n",
       "   Sum Funding ($MM)  #       State  Population  Metropolitan  Sexratio  \\\n",
       "1             717.14  6  Tamil Nadu     4646732       8696010       989   \n",
       "\n",
       "   Literacy  \n",
       "1     90.18  "
      ]
     },
     "execution_count": 43,
     "metadata": {},
     "output_type": "execute_result"
    }
   ],
   "source": [
    "sps_fnd_loc_lit[sps_fnd_loc_lit['City']=='Chennai']"
   ]
  },
  {
   "cell_type": "markdown",
   "id": "f68c414d-362f-4f09-b230-9edaabc1adb3",
   "metadata": {},
   "source": [
    "Despite being one of the most literate cities, Chennai sits on the lower ranking in terms of average Salary. According to the informations gathered online, this situation is caused by the lack of employment in rural areas and rapid urbanization in Chennai. Such conditions were amplified by the already present inequally balanced society and the high discrepancy between the rich and the poor. \n",
    "This led to the propagation of the slums, which now cover over the 30% of the city.\n",
    "\n",
    "Source: https://en.wikipedia.org/wiki/Slums_in_Chennai"
   ]
  }
 ],
 "metadata": {
  "kernelspec": {
   "display_name": "Python 3 (ipykernel)",
   "language": "python",
   "name": "python3"
  },
  "language_info": {
   "codemirror_mode": {
    "name": "ipython",
    "version": 3
   },
   "file_extension": ".py",
   "mimetype": "text/x-python",
   "name": "python",
   "nbconvert_exporter": "python",
   "pygments_lexer": "ipython3",
   "version": "3.9.12"
  }
 },
 "nbformat": 4,
 "nbformat_minor": 5
}
